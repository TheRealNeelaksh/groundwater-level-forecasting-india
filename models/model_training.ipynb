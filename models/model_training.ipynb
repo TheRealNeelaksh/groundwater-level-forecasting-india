{
 "cells": [
  {
   "cell_type": "markdown",
   "id": "610095e2",
   "metadata": {},
   "source": [
    "### Training the Dataset \n",
    "The given problem statement of **groundwater level estimator** we would be going with the regression models to predict the water level by taking currentlevel as our output feature and rest others as our input features.\n",
    "\n",
    "We would be training multiple models and use metrics such as *Mean Squared Error*,*Mean Absolute Error*,*Adjusted R Square* as our metrics for evaluation of model\n",
    "\n",
    "We will proceed with *Supervised Machine Learning Algorithms*\n"
   ]
  },
  {
   "cell_type": "code",
   "execution_count": 10,
   "id": "dfd7a852",
   "metadata": {},
   "outputs": [],
   "source": [
    "# Importing Libraries\n",
    "import pandas as pd\n",
    "import numpy as np\n",
    "import matplotlib.pyplot as plt\n",
    "%matplotlib inline\n",
    "import seaborn as sns\n",
    "from sklearn.preprocessing import StandardScaler\n",
    "from sklearn.linear_model import LinearRegression\n",
    "from sklearn.linear_model import LassoCV\n",
    "from sklearn.linear_model import RidgeCV\n",
    "from sklearn.linear_model import ElasticNetCV\n",
    "from sklearn.svm import SVR\n",
    "from sklearn.neighbors import KNeighborsRegressor\n",
    "from sklearn.tree import DecisionTreeRegressor\n",
    "from sklearn import tree\n",
    "from sklearn.ensemble import RandomForestRegressor\n",
    "from sklearn.ensemble import AdaBoostRegressor\n",
    "from sklearn.ensemble import GradientBoostingRegressor\n",
    "import xgboost as xgb\n",
    "from sklearn.preprocessing import StandardScaler, MinMaxScaler\n",
    "from sklearn.compose import ColumnTransformer"
   ]
  },
  {
   "cell_type": "code",
   "execution_count": 3,
   "id": "8e40ef37",
   "metadata": {},
   "outputs": [
    {
     "data": {
      "application/vnd.microsoft.datawrangler.viewer.v0+json": {
       "columns": [
        {
         "name": "index",
         "rawType": "int64",
         "type": "integer"
        },
        {
         "name": "state_code",
         "rawType": "int64",
         "type": "integer"
        },
        {
         "name": "district_code",
         "rawType": "int64",
         "type": "integer"
        },
        {
         "name": "latitude",
         "rawType": "float64",
         "type": "float"
        },
        {
         "name": "longitude",
         "rawType": "float64",
         "type": "float"
        },
        {
         "name": "basin",
         "rawType": "object",
         "type": "string"
        },
        {
         "name": "sub_basin",
         "rawType": "object",
         "type": "string"
        },
        {
         "name": "level_diff",
         "rawType": "float64",
         "type": "float"
        },
        {
         "name": "month",
         "rawType": "int64",
         "type": "integer"
        },
        {
         "name": "season_Monsoon",
         "rawType": "float64",
         "type": "float"
        },
        {
         "name": "season_Post-Monsoon",
         "rawType": "float64",
         "type": "float"
        },
        {
         "name": "season_Summer",
         "rawType": "float64",
         "type": "float"
        },
        {
         "name": "season_Winter",
         "rawType": "float64",
         "type": "float"
        }
       ],
       "ref": "13d287b8-5633-46a7-94d1-4f59c11f5593",
       "rows": [
        [
         "0",
         "6",
         "68",
         "29.97361",
         "76.82778",
         "Indus (Up To Border)",
         "Ghaghar And Others",
         "3.1",
         "3",
         "0.0",
         "0.0",
         "1.0",
         "0.0"
        ],
        [
         "1",
         "21",
         "355",
         "20.32778",
         "86.08583",
         "Mahanadi",
         "Mahanadi Lower",
         "0.23",
         "1",
         "0.0",
         "0.0",
         "0.0",
         "1.0"
        ],
        [
         "2",
         "8",
         "112",
         "25.66667",
         "74.01667",
         "Ganga",
         "Banas",
         "0.8",
         "11",
         "0.0",
         "1.0",
         "0.0",
         "0.0"
        ],
        [
         "3",
         "29",
         "524",
         "16.53972",
         "75.32972",
         "Krishna",
         "Krishna Upper",
         "3.83",
         "5",
         "0.0",
         "0.0",
         "1.0",
         "0.0"
        ],
        [
         "4",
         "29",
         "546",
         "16.05",
         "77.21389",
         "Krishna",
         "Tungabhadra Lower",
         "2.2",
         "8",
         "1.0",
         "0.0",
         "0.0",
         "0.0"
        ]
       ],
       "shape": {
        "columns": 12,
        "rows": 5
       }
      },
      "text/html": [
       "<div>\n",
       "<style scoped>\n",
       "    .dataframe tbody tr th:only-of-type {\n",
       "        vertical-align: middle;\n",
       "    }\n",
       "\n",
       "    .dataframe tbody tr th {\n",
       "        vertical-align: top;\n",
       "    }\n",
       "\n",
       "    .dataframe thead th {\n",
       "        text-align: right;\n",
       "    }\n",
       "</style>\n",
       "<table border=\"1\" class=\"dataframe\">\n",
       "  <thead>\n",
       "    <tr style=\"text-align: right;\">\n",
       "      <th></th>\n",
       "      <th>state_code</th>\n",
       "      <th>district_code</th>\n",
       "      <th>latitude</th>\n",
       "      <th>longitude</th>\n",
       "      <th>basin</th>\n",
       "      <th>sub_basin</th>\n",
       "      <th>level_diff</th>\n",
       "      <th>month</th>\n",
       "      <th>season_Monsoon</th>\n",
       "      <th>season_Post-Monsoon</th>\n",
       "      <th>season_Summer</th>\n",
       "      <th>season_Winter</th>\n",
       "    </tr>\n",
       "  </thead>\n",
       "  <tbody>\n",
       "    <tr>\n",
       "      <th>0</th>\n",
       "      <td>6</td>\n",
       "      <td>68</td>\n",
       "      <td>29.97361</td>\n",
       "      <td>76.82778</td>\n",
       "      <td>Indus (Up To Border)</td>\n",
       "      <td>Ghaghar And Others</td>\n",
       "      <td>3.10</td>\n",
       "      <td>3</td>\n",
       "      <td>0.0</td>\n",
       "      <td>0.0</td>\n",
       "      <td>1.0</td>\n",
       "      <td>0.0</td>\n",
       "    </tr>\n",
       "    <tr>\n",
       "      <th>1</th>\n",
       "      <td>21</td>\n",
       "      <td>355</td>\n",
       "      <td>20.32778</td>\n",
       "      <td>86.08583</td>\n",
       "      <td>Mahanadi</td>\n",
       "      <td>Mahanadi Lower</td>\n",
       "      <td>0.23</td>\n",
       "      <td>1</td>\n",
       "      <td>0.0</td>\n",
       "      <td>0.0</td>\n",
       "      <td>0.0</td>\n",
       "      <td>1.0</td>\n",
       "    </tr>\n",
       "    <tr>\n",
       "      <th>2</th>\n",
       "      <td>8</td>\n",
       "      <td>112</td>\n",
       "      <td>25.66667</td>\n",
       "      <td>74.01667</td>\n",
       "      <td>Ganga</td>\n",
       "      <td>Banas</td>\n",
       "      <td>0.80</td>\n",
       "      <td>11</td>\n",
       "      <td>0.0</td>\n",
       "      <td>1.0</td>\n",
       "      <td>0.0</td>\n",
       "      <td>0.0</td>\n",
       "    </tr>\n",
       "    <tr>\n",
       "      <th>3</th>\n",
       "      <td>29</td>\n",
       "      <td>524</td>\n",
       "      <td>16.53972</td>\n",
       "      <td>75.32972</td>\n",
       "      <td>Krishna</td>\n",
       "      <td>Krishna Upper</td>\n",
       "      <td>3.83</td>\n",
       "      <td>5</td>\n",
       "      <td>0.0</td>\n",
       "      <td>0.0</td>\n",
       "      <td>1.0</td>\n",
       "      <td>0.0</td>\n",
       "    </tr>\n",
       "    <tr>\n",
       "      <th>4</th>\n",
       "      <td>29</td>\n",
       "      <td>546</td>\n",
       "      <td>16.05000</td>\n",
       "      <td>77.21389</td>\n",
       "      <td>Krishna</td>\n",
       "      <td>Tungabhadra Lower</td>\n",
       "      <td>2.20</td>\n",
       "      <td>8</td>\n",
       "      <td>1.0</td>\n",
       "      <td>0.0</td>\n",
       "      <td>0.0</td>\n",
       "      <td>0.0</td>\n",
       "    </tr>\n",
       "  </tbody>\n",
       "</table>\n",
       "</div>"
      ],
      "text/plain": [
       "   state_code  district_code  latitude  longitude                 basin  \\\n",
       "0           6             68  29.97361   76.82778  Indus (Up To Border)   \n",
       "1          21            355  20.32778   86.08583              Mahanadi   \n",
       "2           8            112  25.66667   74.01667                 Ganga   \n",
       "3          29            524  16.53972   75.32972               Krishna   \n",
       "4          29            546  16.05000   77.21389               Krishna   \n",
       "\n",
       "            sub_basin  level_diff  month  season_Monsoon  season_Post-Monsoon  \\\n",
       "0  Ghaghar And Others        3.10      3             0.0                  0.0   \n",
       "1      Mahanadi Lower        0.23      1             0.0                  0.0   \n",
       "2               Banas        0.80     11             0.0                  1.0   \n",
       "3       Krishna Upper        3.83      5             0.0                  0.0   \n",
       "4   Tungabhadra Lower        2.20      8             1.0                  0.0   \n",
       "\n",
       "   season_Summer  season_Winter  \n",
       "0            1.0            0.0  \n",
       "1            0.0            1.0  \n",
       "2            0.0            0.0  \n",
       "3            1.0            0.0  \n",
       "4            0.0            0.0  "
      ]
     },
     "execution_count": 3,
     "metadata": {},
     "output_type": "execute_result"
    }
   ],
   "source": [
    "x_train=pd.read_csv('x_train.csv')\n",
    "x_train.head()"
   ]
  },
  {
   "cell_type": "code",
   "execution_count": 4,
   "id": "f2f527b0",
   "metadata": {},
   "outputs": [
    {
     "data": {
      "application/vnd.microsoft.datawrangler.viewer.v0+json": {
       "columns": [
        {
         "name": "index",
         "rawType": "int64",
         "type": "integer"
        },
        {
         "name": "state_code",
         "rawType": "int64",
         "type": "integer"
        },
        {
         "name": "district_code",
         "rawType": "int64",
         "type": "integer"
        },
        {
         "name": "latitude",
         "rawType": "float64",
         "type": "float"
        },
        {
         "name": "longitude",
         "rawType": "float64",
         "type": "float"
        },
        {
         "name": "basin",
         "rawType": "object",
         "type": "string"
        },
        {
         "name": "sub_basin",
         "rawType": "object",
         "type": "string"
        },
        {
         "name": "level_diff",
         "rawType": "float64",
         "type": "float"
        },
        {
         "name": "month",
         "rawType": "int64",
         "type": "integer"
        },
        {
         "name": "season_Monsoon",
         "rawType": "float64",
         "type": "float"
        },
        {
         "name": "season_Post-Monsoon",
         "rawType": "float64",
         "type": "float"
        },
        {
         "name": "season_Summer",
         "rawType": "float64",
         "type": "float"
        },
        {
         "name": "season_Winter",
         "rawType": "float64",
         "type": "float"
        }
       ],
       "ref": "c41a16c3-5227-424f-ae99-db4811522057",
       "rows": [
        [
         "0",
         "36",
         "507",
         "17.38333",
         "78.52083",
         "Krishna",
         "Krishna Lower",
         "1.44",
         "5",
         "0.0",
         "0.0",
         "1.0",
         "0.0"
        ],
        [
         "1",
         "23",
         "409",
         "22.4075",
         "77.84278",
         "Narmada",
         "Narmada Upper",
         "0.52",
         "1",
         "0.0",
         "0.0",
         "0.0",
         "1.0"
        ],
        [
         "2",
         "23",
         "416",
         "24.14833",
         "75.02917",
         "Ganga",
         "Chambal Upper",
         "10.04",
         "5",
         "0.0",
         "0.0",
         "1.0",
         "0.0"
        ],
        [
         "3",
         "19",
         "305",
         "23.4",
         "86.97361",
         "Ganga",
         "Damodar",
         "2.31",
         "1",
         "0.0",
         "0.0",
         "0.0",
         "1.0"
        ],
        [
         "4",
         "33",
         "568",
         "13.025",
         "80.25833",
         "East Flowing Rivers Between Pennar And Kanyakumari",
         "Palar And Other",
         "-0.13",
         "11",
         "0.0",
         "1.0",
         "0.0",
         "0.0"
        ]
       ],
       "shape": {
        "columns": 12,
        "rows": 5
       }
      },
      "text/html": [
       "<div>\n",
       "<style scoped>\n",
       "    .dataframe tbody tr th:only-of-type {\n",
       "        vertical-align: middle;\n",
       "    }\n",
       "\n",
       "    .dataframe tbody tr th {\n",
       "        vertical-align: top;\n",
       "    }\n",
       "\n",
       "    .dataframe thead th {\n",
       "        text-align: right;\n",
       "    }\n",
       "</style>\n",
       "<table border=\"1\" class=\"dataframe\">\n",
       "  <thead>\n",
       "    <tr style=\"text-align: right;\">\n",
       "      <th></th>\n",
       "      <th>state_code</th>\n",
       "      <th>district_code</th>\n",
       "      <th>latitude</th>\n",
       "      <th>longitude</th>\n",
       "      <th>basin</th>\n",
       "      <th>sub_basin</th>\n",
       "      <th>level_diff</th>\n",
       "      <th>month</th>\n",
       "      <th>season_Monsoon</th>\n",
       "      <th>season_Post-Monsoon</th>\n",
       "      <th>season_Summer</th>\n",
       "      <th>season_Winter</th>\n",
       "    </tr>\n",
       "  </thead>\n",
       "  <tbody>\n",
       "    <tr>\n",
       "      <th>0</th>\n",
       "      <td>36</td>\n",
       "      <td>507</td>\n",
       "      <td>17.38333</td>\n",
       "      <td>78.52083</td>\n",
       "      <td>Krishna</td>\n",
       "      <td>Krishna Lower</td>\n",
       "      <td>1.44</td>\n",
       "      <td>5</td>\n",
       "      <td>0.0</td>\n",
       "      <td>0.0</td>\n",
       "      <td>1.0</td>\n",
       "      <td>0.0</td>\n",
       "    </tr>\n",
       "    <tr>\n",
       "      <th>1</th>\n",
       "      <td>23</td>\n",
       "      <td>409</td>\n",
       "      <td>22.40750</td>\n",
       "      <td>77.84278</td>\n",
       "      <td>Narmada</td>\n",
       "      <td>Narmada Upper</td>\n",
       "      <td>0.52</td>\n",
       "      <td>1</td>\n",
       "      <td>0.0</td>\n",
       "      <td>0.0</td>\n",
       "      <td>0.0</td>\n",
       "      <td>1.0</td>\n",
       "    </tr>\n",
       "    <tr>\n",
       "      <th>2</th>\n",
       "      <td>23</td>\n",
       "      <td>416</td>\n",
       "      <td>24.14833</td>\n",
       "      <td>75.02917</td>\n",
       "      <td>Ganga</td>\n",
       "      <td>Chambal Upper</td>\n",
       "      <td>10.04</td>\n",
       "      <td>5</td>\n",
       "      <td>0.0</td>\n",
       "      <td>0.0</td>\n",
       "      <td>1.0</td>\n",
       "      <td>0.0</td>\n",
       "    </tr>\n",
       "    <tr>\n",
       "      <th>3</th>\n",
       "      <td>19</td>\n",
       "      <td>305</td>\n",
       "      <td>23.40000</td>\n",
       "      <td>86.97361</td>\n",
       "      <td>Ganga</td>\n",
       "      <td>Damodar</td>\n",
       "      <td>2.31</td>\n",
       "      <td>1</td>\n",
       "      <td>0.0</td>\n",
       "      <td>0.0</td>\n",
       "      <td>0.0</td>\n",
       "      <td>1.0</td>\n",
       "    </tr>\n",
       "    <tr>\n",
       "      <th>4</th>\n",
       "      <td>33</td>\n",
       "      <td>568</td>\n",
       "      <td>13.02500</td>\n",
       "      <td>80.25833</td>\n",
       "      <td>East Flowing Rivers Between Pennar And Kanyaku...</td>\n",
       "      <td>Palar And Other</td>\n",
       "      <td>-0.13</td>\n",
       "      <td>11</td>\n",
       "      <td>0.0</td>\n",
       "      <td>1.0</td>\n",
       "      <td>0.0</td>\n",
       "      <td>0.0</td>\n",
       "    </tr>\n",
       "  </tbody>\n",
       "</table>\n",
       "</div>"
      ],
      "text/plain": [
       "   state_code  district_code  latitude  longitude  \\\n",
       "0          36            507  17.38333   78.52083   \n",
       "1          23            409  22.40750   77.84278   \n",
       "2          23            416  24.14833   75.02917   \n",
       "3          19            305  23.40000   86.97361   \n",
       "4          33            568  13.02500   80.25833   \n",
       "\n",
       "                                               basin        sub_basin  \\\n",
       "0                                            Krishna    Krishna Lower   \n",
       "1                                            Narmada    Narmada Upper   \n",
       "2                                              Ganga    Chambal Upper   \n",
       "3                                              Ganga          Damodar   \n",
       "4  East Flowing Rivers Between Pennar And Kanyaku...  Palar And Other   \n",
       "\n",
       "   level_diff  month  season_Monsoon  season_Post-Monsoon  season_Summer  \\\n",
       "0        1.44      5             0.0                  0.0            1.0   \n",
       "1        0.52      1             0.0                  0.0            0.0   \n",
       "2       10.04      5             0.0                  0.0            1.0   \n",
       "3        2.31      1             0.0                  0.0            0.0   \n",
       "4       -0.13     11             0.0                  1.0            0.0   \n",
       "\n",
       "   season_Winter  \n",
       "0            0.0  \n",
       "1            1.0  \n",
       "2            0.0  \n",
       "3            1.0  \n",
       "4            0.0  "
      ]
     },
     "execution_count": 4,
     "metadata": {},
     "output_type": "execute_result"
    }
   ],
   "source": [
    "x_test=pd.read_csv('x_test.csv')\n",
    "x_test.head()"
   ]
  },
  {
   "cell_type": "code",
   "execution_count": 5,
   "id": "336426f3",
   "metadata": {},
   "outputs": [
    {
     "data": {
      "application/vnd.microsoft.datawrangler.viewer.v0+json": {
       "columns": [
        {
         "name": "index",
         "rawType": "int64",
         "type": "integer"
        },
        {
         "name": "currentlevel",
         "rawType": "float64",
         "type": "float"
        }
       ],
       "ref": "afc4a72c-7e25-4450-bc15-1e30093a22d6",
       "rows": [
        [
         "0",
         "36.4"
        ],
        [
         "1",
         "1.33"
        ],
        [
         "2",
         "2.1"
        ],
        [
         "3",
         "7.13"
        ],
        [
         "4",
         "12.2"
        ]
       ],
       "shape": {
        "columns": 1,
        "rows": 5
       }
      },
      "text/html": [
       "<div>\n",
       "<style scoped>\n",
       "    .dataframe tbody tr th:only-of-type {\n",
       "        vertical-align: middle;\n",
       "    }\n",
       "\n",
       "    .dataframe tbody tr th {\n",
       "        vertical-align: top;\n",
       "    }\n",
       "\n",
       "    .dataframe thead th {\n",
       "        text-align: right;\n",
       "    }\n",
       "</style>\n",
       "<table border=\"1\" class=\"dataframe\">\n",
       "  <thead>\n",
       "    <tr style=\"text-align: right;\">\n",
       "      <th></th>\n",
       "      <th>currentlevel</th>\n",
       "    </tr>\n",
       "  </thead>\n",
       "  <tbody>\n",
       "    <tr>\n",
       "      <th>0</th>\n",
       "      <td>36.40</td>\n",
       "    </tr>\n",
       "    <tr>\n",
       "      <th>1</th>\n",
       "      <td>1.33</td>\n",
       "    </tr>\n",
       "    <tr>\n",
       "      <th>2</th>\n",
       "      <td>2.10</td>\n",
       "    </tr>\n",
       "    <tr>\n",
       "      <th>3</th>\n",
       "      <td>7.13</td>\n",
       "    </tr>\n",
       "    <tr>\n",
       "      <th>4</th>\n",
       "      <td>12.20</td>\n",
       "    </tr>\n",
       "  </tbody>\n",
       "</table>\n",
       "</div>"
      ],
      "text/plain": [
       "   currentlevel\n",
       "0         36.40\n",
       "1          1.33\n",
       "2          2.10\n",
       "3          7.13\n",
       "4         12.20"
      ]
     },
     "execution_count": 5,
     "metadata": {},
     "output_type": "execute_result"
    }
   ],
   "source": [
    "y_train=pd.read_csv('y_train.csv')\n",
    "y_train.head()"
   ]
  },
  {
   "cell_type": "code",
   "execution_count": 6,
   "id": "b2577156",
   "metadata": {},
   "outputs": [
    {
     "data": {
      "application/vnd.microsoft.datawrangler.viewer.v0+json": {
       "columns": [
        {
         "name": "index",
         "rawType": "int64",
         "type": "integer"
        },
        {
         "name": "currentlevel",
         "rawType": "float64",
         "type": "float"
        }
       ],
       "ref": "f49e9101-95ab-4f30-abbd-4383b3b6142e",
       "rows": [
        [
         "0",
         "7.02"
        ],
        [
         "1",
         "2.23"
        ],
        [
         "2",
         "19.14"
        ],
        [
         "3",
         "10.45"
        ],
        [
         "4",
         "2.53"
        ]
       ],
       "shape": {
        "columns": 1,
        "rows": 5
       }
      },
      "text/html": [
       "<div>\n",
       "<style scoped>\n",
       "    .dataframe tbody tr th:only-of-type {\n",
       "        vertical-align: middle;\n",
       "    }\n",
       "\n",
       "    .dataframe tbody tr th {\n",
       "        vertical-align: top;\n",
       "    }\n",
       "\n",
       "    .dataframe thead th {\n",
       "        text-align: right;\n",
       "    }\n",
       "</style>\n",
       "<table border=\"1\" class=\"dataframe\">\n",
       "  <thead>\n",
       "    <tr style=\"text-align: right;\">\n",
       "      <th></th>\n",
       "      <th>currentlevel</th>\n",
       "    </tr>\n",
       "  </thead>\n",
       "  <tbody>\n",
       "    <tr>\n",
       "      <th>0</th>\n",
       "      <td>7.02</td>\n",
       "    </tr>\n",
       "    <tr>\n",
       "      <th>1</th>\n",
       "      <td>2.23</td>\n",
       "    </tr>\n",
       "    <tr>\n",
       "      <th>2</th>\n",
       "      <td>19.14</td>\n",
       "    </tr>\n",
       "    <tr>\n",
       "      <th>3</th>\n",
       "      <td>10.45</td>\n",
       "    </tr>\n",
       "    <tr>\n",
       "      <th>4</th>\n",
       "      <td>2.53</td>\n",
       "    </tr>\n",
       "  </tbody>\n",
       "</table>\n",
       "</div>"
      ],
      "text/plain": [
       "   currentlevel\n",
       "0          7.02\n",
       "1          2.23\n",
       "2         19.14\n",
       "3         10.45\n",
       "4          2.53"
      ]
     },
     "execution_count": 6,
     "metadata": {},
     "output_type": "execute_result"
    }
   ],
   "source": [
    "y_test=pd.read_csv('y_test.csv')\n",
    "y_test.head()"
   ]
  },
  {
   "cell_type": "code",
   "execution_count": 7,
   "id": "87767841",
   "metadata": {},
   "outputs": [
    {
     "data": {
      "text/plain": [
       "((440680, 12), (110170, 12))"
      ]
     },
     "execution_count": 7,
     "metadata": {},
     "output_type": "execute_result"
    }
   ],
   "source": [
    "x_train.shape,x_test.shape"
   ]
  },
  {
   "cell_type": "code",
   "execution_count": 8,
   "id": "59a35271",
   "metadata": {},
   "outputs": [
    {
     "data": {
      "text/plain": [
       "((440680, 1), (110170, 1))"
      ]
     },
     "execution_count": 8,
     "metadata": {},
     "output_type": "execute_result"
    }
   ],
   "source": [
    "y_train.shape,y_test.shape"
   ]
  },
  {
   "cell_type": "code",
   "execution_count": 9,
   "id": "e7fb5cdd",
   "metadata": {},
   "outputs": [
    {
     "data": {
      "application/vnd.microsoft.datawrangler.viewer.v0+json": {
       "columns": [
        {
         "name": "index",
         "rawType": "object",
         "type": "string"
        },
        {
         "name": "state_code",
         "rawType": "float64",
         "type": "float"
        },
        {
         "name": "district_code",
         "rawType": "float64",
         "type": "float"
        },
        {
         "name": "latitude",
         "rawType": "float64",
         "type": "float"
        },
        {
         "name": "longitude",
         "rawType": "float64",
         "type": "float"
        },
        {
         "name": "level_diff",
         "rawType": "float64",
         "type": "float"
        },
        {
         "name": "month",
         "rawType": "float64",
         "type": "float"
        },
        {
         "name": "season_Monsoon",
         "rawType": "float64",
         "type": "float"
        },
        {
         "name": "season_Post-Monsoon",
         "rawType": "float64",
         "type": "float"
        },
        {
         "name": "season_Summer",
         "rawType": "float64",
         "type": "float"
        },
        {
         "name": "season_Winter",
         "rawType": "float64",
         "type": "float"
        }
       ],
       "ref": "48be6e13-4c09-4419-b021-e3246912ea20",
       "rows": [
        [
         "count",
         "440680.0",
         "440680.0",
         "440680.0",
         "440680.0",
         "440680.0",
         "440680.0",
         "440680.0",
         "440680.0",
         "440680.0",
         "440680.0"
        ],
        [
         "mean",
         "22.558003539983662",
         "397.03397022782974",
         "20.15000094739947",
         "79.30626148211853",
         "0.02021224017427612",
         "6.1492239266588005",
         "0.23828401561223564",
         "0.25020196060633565",
         "0.22669737678133794",
         "0.2848166470000908"
        ],
        [
         "std",
         "9.19809918074781",
         "169.3569580217567",
         "6.205204334052628",
         "4.764904032413136",
         "5.782381735845035",
         "3.804822112299277",
         "0.4260342185690464",
         "0.4331297325564617",
         "0.4186956817913885",
         "0.4513275826081381"
        ],
        [
         "min",
         "1.0",
         "1.0",
         "8.08333",
         "68.675",
         "-276.58",
         "1.0",
         "0.0",
         "0.0",
         "0.0",
         "0.0"
        ],
        [
         "25%",
         "19.0",
         "312.0",
         "14.8989575",
         "75.99583",
         "-1.3",
         "1.0",
         "0.0",
         "0.0",
         "0.0",
         "0.0"
        ],
        [
         "50%",
         "23.0",
         "433.0",
         "21.34583",
         "78.16667",
         "0.3",
         "6.0",
         "0.0",
         "0.0",
         "0.0",
         "0.0"
        ],
        [
         "75%",
         "29.0",
         "535.0",
         "24.47056",
         "82.23056",
         "1.55",
         "10.0",
         "0.0",
         "1.0",
         "0.0",
         "1.0"
        ],
        [
         "max",
         "38.0",
         "704.0",
         "33.74111",
         "96.13333",
         "216.4",
         "12.0",
         "1.0",
         "1.0",
         "1.0",
         "1.0"
        ]
       ],
       "shape": {
        "columns": 10,
        "rows": 8
       }
      },
      "text/html": [
       "<div>\n",
       "<style scoped>\n",
       "    .dataframe tbody tr th:only-of-type {\n",
       "        vertical-align: middle;\n",
       "    }\n",
       "\n",
       "    .dataframe tbody tr th {\n",
       "        vertical-align: top;\n",
       "    }\n",
       "\n",
       "    .dataframe thead th {\n",
       "        text-align: right;\n",
       "    }\n",
       "</style>\n",
       "<table border=\"1\" class=\"dataframe\">\n",
       "  <thead>\n",
       "    <tr style=\"text-align: right;\">\n",
       "      <th></th>\n",
       "      <th>state_code</th>\n",
       "      <th>district_code</th>\n",
       "      <th>latitude</th>\n",
       "      <th>longitude</th>\n",
       "      <th>level_diff</th>\n",
       "      <th>month</th>\n",
       "      <th>season_Monsoon</th>\n",
       "      <th>season_Post-Monsoon</th>\n",
       "      <th>season_Summer</th>\n",
       "      <th>season_Winter</th>\n",
       "    </tr>\n",
       "  </thead>\n",
       "  <tbody>\n",
       "    <tr>\n",
       "      <th>count</th>\n",
       "      <td>440680.000000</td>\n",
       "      <td>440680.000000</td>\n",
       "      <td>440680.000000</td>\n",
       "      <td>440680.000000</td>\n",
       "      <td>440680.000000</td>\n",
       "      <td>440680.000000</td>\n",
       "      <td>440680.000000</td>\n",
       "      <td>440680.000000</td>\n",
       "      <td>440680.000000</td>\n",
       "      <td>440680.000000</td>\n",
       "    </tr>\n",
       "    <tr>\n",
       "      <th>mean</th>\n",
       "      <td>22.558004</td>\n",
       "      <td>397.033970</td>\n",
       "      <td>20.150001</td>\n",
       "      <td>79.306261</td>\n",
       "      <td>0.020212</td>\n",
       "      <td>6.149224</td>\n",
       "      <td>0.238284</td>\n",
       "      <td>0.250202</td>\n",
       "      <td>0.226697</td>\n",
       "      <td>0.284817</td>\n",
       "    </tr>\n",
       "    <tr>\n",
       "      <th>std</th>\n",
       "      <td>9.198099</td>\n",
       "      <td>169.356958</td>\n",
       "      <td>6.205204</td>\n",
       "      <td>4.764904</td>\n",
       "      <td>5.782382</td>\n",
       "      <td>3.804822</td>\n",
       "      <td>0.426034</td>\n",
       "      <td>0.433130</td>\n",
       "      <td>0.418696</td>\n",
       "      <td>0.451328</td>\n",
       "    </tr>\n",
       "    <tr>\n",
       "      <th>min</th>\n",
       "      <td>1.000000</td>\n",
       "      <td>1.000000</td>\n",
       "      <td>8.083330</td>\n",
       "      <td>68.675000</td>\n",
       "      <td>-276.580000</td>\n",
       "      <td>1.000000</td>\n",
       "      <td>0.000000</td>\n",
       "      <td>0.000000</td>\n",
       "      <td>0.000000</td>\n",
       "      <td>0.000000</td>\n",
       "    </tr>\n",
       "    <tr>\n",
       "      <th>25%</th>\n",
       "      <td>19.000000</td>\n",
       "      <td>312.000000</td>\n",
       "      <td>14.898957</td>\n",
       "      <td>75.995830</td>\n",
       "      <td>-1.300000</td>\n",
       "      <td>1.000000</td>\n",
       "      <td>0.000000</td>\n",
       "      <td>0.000000</td>\n",
       "      <td>0.000000</td>\n",
       "      <td>0.000000</td>\n",
       "    </tr>\n",
       "    <tr>\n",
       "      <th>50%</th>\n",
       "      <td>23.000000</td>\n",
       "      <td>433.000000</td>\n",
       "      <td>21.345830</td>\n",
       "      <td>78.166670</td>\n",
       "      <td>0.300000</td>\n",
       "      <td>6.000000</td>\n",
       "      <td>0.000000</td>\n",
       "      <td>0.000000</td>\n",
       "      <td>0.000000</td>\n",
       "      <td>0.000000</td>\n",
       "    </tr>\n",
       "    <tr>\n",
       "      <th>75%</th>\n",
       "      <td>29.000000</td>\n",
       "      <td>535.000000</td>\n",
       "      <td>24.470560</td>\n",
       "      <td>82.230560</td>\n",
       "      <td>1.550000</td>\n",
       "      <td>10.000000</td>\n",
       "      <td>0.000000</td>\n",
       "      <td>1.000000</td>\n",
       "      <td>0.000000</td>\n",
       "      <td>1.000000</td>\n",
       "    </tr>\n",
       "    <tr>\n",
       "      <th>max</th>\n",
       "      <td>38.000000</td>\n",
       "      <td>704.000000</td>\n",
       "      <td>33.741110</td>\n",
       "      <td>96.133330</td>\n",
       "      <td>216.400000</td>\n",
       "      <td>12.000000</td>\n",
       "      <td>1.000000</td>\n",
       "      <td>1.000000</td>\n",
       "      <td>1.000000</td>\n",
       "      <td>1.000000</td>\n",
       "    </tr>\n",
       "  </tbody>\n",
       "</table>\n",
       "</div>"
      ],
      "text/plain": [
       "          state_code  district_code       latitude      longitude  \\\n",
       "count  440680.000000  440680.000000  440680.000000  440680.000000   \n",
       "mean       22.558004     397.033970      20.150001      79.306261   \n",
       "std         9.198099     169.356958       6.205204       4.764904   \n",
       "min         1.000000       1.000000       8.083330      68.675000   \n",
       "25%        19.000000     312.000000      14.898957      75.995830   \n",
       "50%        23.000000     433.000000      21.345830      78.166670   \n",
       "75%        29.000000     535.000000      24.470560      82.230560   \n",
       "max        38.000000     704.000000      33.741110      96.133330   \n",
       "\n",
       "          level_diff          month  season_Monsoon  season_Post-Monsoon  \\\n",
       "count  440680.000000  440680.000000   440680.000000        440680.000000   \n",
       "mean        0.020212       6.149224        0.238284             0.250202   \n",
       "std         5.782382       3.804822        0.426034             0.433130   \n",
       "min      -276.580000       1.000000        0.000000             0.000000   \n",
       "25%        -1.300000       1.000000        0.000000             0.000000   \n",
       "50%         0.300000       6.000000        0.000000             0.000000   \n",
       "75%         1.550000      10.000000        0.000000             1.000000   \n",
       "max       216.400000      12.000000        1.000000             1.000000   \n",
       "\n",
       "       season_Summer  season_Winter  \n",
       "count  440680.000000  440680.000000  \n",
       "mean        0.226697       0.284817  \n",
       "std         0.418696       0.451328  \n",
       "min         0.000000       0.000000  \n",
       "25%         0.000000       0.000000  \n",
       "50%         0.000000       0.000000  \n",
       "75%         0.000000       1.000000  \n",
       "max         1.000000       1.000000  "
      ]
     },
     "execution_count": 9,
     "metadata": {},
     "output_type": "execute_result"
    }
   ],
   "source": [
    "x_train.describe()"
   ]
  },
  {
   "cell_type": "code",
   "execution_count": null,
   "id": "2a62cb5e",
   "metadata": {},
   "outputs": [],
   "source": [
    "scaler=StandardScaler()"
   ]
  }
 ],
 "metadata": {
  "kernelspec": {
   "display_name": "base",
   "language": "python",
   "name": "python3"
  },
  "language_info": {
   "codemirror_mode": {
    "name": "ipython",
    "version": 3
   },
   "file_extension": ".py",
   "mimetype": "text/x-python",
   "name": "python",
   "nbconvert_exporter": "python",
   "pygments_lexer": "ipython3",
   "version": "3.12.4"
  }
 },
 "nbformat": 4,
 "nbformat_minor": 5
}
