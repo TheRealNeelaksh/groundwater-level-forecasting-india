{
 "cells": [
  {
   "cell_type": "markdown",
   "id": "b8fb5e0f",
   "metadata": {},
   "source": [
    "Importing data"
   ]
  },
  {
   "cell_type": "code",
   "execution_count": 38,
   "id": "26add6ac",
   "metadata": {},
   "outputs": [],
   "source": [
    "import pandas as pd\n",
    "import numpy as np\n",
    "import matplotlib.pyplot as plt\n",
    "%matplotlib inline\n",
    "import seaborn as sns\n",
    "from sklearn.preprocessing import StandardScaler\n",
    "from sklearn.linear_model import LinearRegression\n",
    "from sklearn.linear_model import LassoCV\n",
    "from sklearn.linear_model import RidgeCV\n",
    "from sklearn.linear_model import ElasticNetCV\n",
    "from sklearn.svm import SVR\n",
    "from sklearn.neighbors import KNeighborsRegressor\n",
    "from sklearn.tree import DecisionTreeRegressor\n",
    "from sklearn import tree\n",
    "from sklearn.ensemble import RandomForestRegressor\n",
    "from sklearn.ensemble import AdaBoostRegressor\n",
    "from sklearn.ensemble import GradientBoostingRegressor\n",
    "import xgboost as xgb\n",
    "from sklearn.preprocessing import StandardScaler, MinMaxScaler\n",
    "from sklearn.compose import ColumnTransformer\n",
    "from sklearn.preprocessing import OneHotEncoder\n",
    "from sklearn.metrics import mean_squared_error, mean_absolute_error, r2_score\n",
    "import joblib\n",
    "import os\n",
    "from pathlib import Path"
   ]
  },
  {
   "cell_type": "markdown",
   "id": "8b8f0bfc",
   "metadata": {},
   "source": [
    "Importing CSVs"
   ]
  },
  {
   "cell_type": "code",
   "execution_count": 39,
   "id": "30bcce48",
   "metadata": {},
   "outputs": [
    {
     "data": {
      "text/html": [
       "<div>\n",
       "<style scoped>\n",
       "    .dataframe tbody tr th:only-of-type {\n",
       "        vertical-align: middle;\n",
       "    }\n",
       "\n",
       "    .dataframe tbody tr th {\n",
       "        vertical-align: top;\n",
       "    }\n",
       "\n",
       "    .dataframe thead th {\n",
       "        text-align: right;\n",
       "    }\n",
       "</style>\n",
       "<table border=\"1\" class=\"dataframe\">\n",
       "  <thead>\n",
       "    <tr style=\"text-align: right;\">\n",
       "      <th></th>\n",
       "      <th>state_code</th>\n",
       "      <th>district_code</th>\n",
       "      <th>latitude</th>\n",
       "      <th>longitude</th>\n",
       "      <th>basin</th>\n",
       "      <th>sub_basin</th>\n",
       "      <th>level_diff</th>\n",
       "      <th>month</th>\n",
       "      <th>season_Monsoon</th>\n",
       "      <th>season_Post-Monsoon</th>\n",
       "      <th>season_Summer</th>\n",
       "      <th>season_Winter</th>\n",
       "    </tr>\n",
       "  </thead>\n",
       "  <tbody>\n",
       "    <tr>\n",
       "      <th>0</th>\n",
       "      <td>6</td>\n",
       "      <td>68</td>\n",
       "      <td>29.97361</td>\n",
       "      <td>76.82778</td>\n",
       "      <td>Indus (Up To Border)</td>\n",
       "      <td>Ghaghar And Others</td>\n",
       "      <td>3.10</td>\n",
       "      <td>3</td>\n",
       "      <td>0.0</td>\n",
       "      <td>0.0</td>\n",
       "      <td>1.0</td>\n",
       "      <td>0.0</td>\n",
       "    </tr>\n",
       "    <tr>\n",
       "      <th>1</th>\n",
       "      <td>21</td>\n",
       "      <td>355</td>\n",
       "      <td>20.32778</td>\n",
       "      <td>86.08583</td>\n",
       "      <td>Mahanadi</td>\n",
       "      <td>Mahanadi Lower</td>\n",
       "      <td>0.23</td>\n",
       "      <td>1</td>\n",
       "      <td>0.0</td>\n",
       "      <td>0.0</td>\n",
       "      <td>0.0</td>\n",
       "      <td>1.0</td>\n",
       "    </tr>\n",
       "    <tr>\n",
       "      <th>2</th>\n",
       "      <td>8</td>\n",
       "      <td>112</td>\n",
       "      <td>25.66667</td>\n",
       "      <td>74.01667</td>\n",
       "      <td>Ganga</td>\n",
       "      <td>Banas</td>\n",
       "      <td>0.80</td>\n",
       "      <td>11</td>\n",
       "      <td>0.0</td>\n",
       "      <td>1.0</td>\n",
       "      <td>0.0</td>\n",
       "      <td>0.0</td>\n",
       "    </tr>\n",
       "    <tr>\n",
       "      <th>3</th>\n",
       "      <td>29</td>\n",
       "      <td>524</td>\n",
       "      <td>16.53972</td>\n",
       "      <td>75.32972</td>\n",
       "      <td>Krishna</td>\n",
       "      <td>Krishna Upper</td>\n",
       "      <td>3.83</td>\n",
       "      <td>5</td>\n",
       "      <td>0.0</td>\n",
       "      <td>0.0</td>\n",
       "      <td>1.0</td>\n",
       "      <td>0.0</td>\n",
       "    </tr>\n",
       "    <tr>\n",
       "      <th>4</th>\n",
       "      <td>29</td>\n",
       "      <td>546</td>\n",
       "      <td>16.05000</td>\n",
       "      <td>77.21389</td>\n",
       "      <td>Krishna</td>\n",
       "      <td>Tungabhadra Lower</td>\n",
       "      <td>2.20</td>\n",
       "      <td>8</td>\n",
       "      <td>1.0</td>\n",
       "      <td>0.0</td>\n",
       "      <td>0.0</td>\n",
       "      <td>0.0</td>\n",
       "    </tr>\n",
       "  </tbody>\n",
       "</table>\n",
       "</div>"
      ],
      "text/plain": [
       "   state_code  district_code  latitude  longitude                 basin  \\\n",
       "0           6             68  29.97361   76.82778  Indus (Up To Border)   \n",
       "1          21            355  20.32778   86.08583              Mahanadi   \n",
       "2           8            112  25.66667   74.01667                 Ganga   \n",
       "3          29            524  16.53972   75.32972               Krishna   \n",
       "4          29            546  16.05000   77.21389               Krishna   \n",
       "\n",
       "            sub_basin  level_diff  month  season_Monsoon  season_Post-Monsoon  \\\n",
       "0  Ghaghar And Others        3.10      3             0.0                  0.0   \n",
       "1      Mahanadi Lower        0.23      1             0.0                  0.0   \n",
       "2               Banas        0.80     11             0.0                  1.0   \n",
       "3       Krishna Upper        3.83      5             0.0                  0.0   \n",
       "4   Tungabhadra Lower        2.20      8             1.0                  0.0   \n",
       "\n",
       "   season_Summer  season_Winter  \n",
       "0            1.0            0.0  \n",
       "1            0.0            1.0  \n",
       "2            0.0            0.0  \n",
       "3            1.0            0.0  \n",
       "4            0.0            0.0  "
      ]
     },
     "execution_count": 39,
     "metadata": {},
     "output_type": "execute_result"
    }
   ],
   "source": [
    "x_train = pd.read_csv('/workspaces/groundwater-level-forecasting-india/dataset/cleanedData/x_train.csv')\n",
    "x_train.head()"
   ]
  },
  {
   "cell_type": "code",
   "execution_count": 40,
   "id": "04c3c4d9",
   "metadata": {},
   "outputs": [
    {
     "data": {
      "text/html": [
       "<div>\n",
       "<style scoped>\n",
       "    .dataframe tbody tr th:only-of-type {\n",
       "        vertical-align: middle;\n",
       "    }\n",
       "\n",
       "    .dataframe tbody tr th {\n",
       "        vertical-align: top;\n",
       "    }\n",
       "\n",
       "    .dataframe thead th {\n",
       "        text-align: right;\n",
       "    }\n",
       "</style>\n",
       "<table border=\"1\" class=\"dataframe\">\n",
       "  <thead>\n",
       "    <tr style=\"text-align: right;\">\n",
       "      <th></th>\n",
       "      <th>state_code</th>\n",
       "      <th>district_code</th>\n",
       "      <th>latitude</th>\n",
       "      <th>longitude</th>\n",
       "      <th>basin</th>\n",
       "      <th>sub_basin</th>\n",
       "      <th>level_diff</th>\n",
       "      <th>month</th>\n",
       "      <th>season_Monsoon</th>\n",
       "      <th>season_Post-Monsoon</th>\n",
       "      <th>season_Summer</th>\n",
       "      <th>season_Winter</th>\n",
       "    </tr>\n",
       "  </thead>\n",
       "  <tbody>\n",
       "    <tr>\n",
       "      <th>0</th>\n",
       "      <td>36</td>\n",
       "      <td>507</td>\n",
       "      <td>17.38333</td>\n",
       "      <td>78.52083</td>\n",
       "      <td>Krishna</td>\n",
       "      <td>Krishna Lower</td>\n",
       "      <td>1.44</td>\n",
       "      <td>5</td>\n",
       "      <td>0.0</td>\n",
       "      <td>0.0</td>\n",
       "      <td>1.0</td>\n",
       "      <td>0.0</td>\n",
       "    </tr>\n",
       "    <tr>\n",
       "      <th>1</th>\n",
       "      <td>23</td>\n",
       "      <td>409</td>\n",
       "      <td>22.40750</td>\n",
       "      <td>77.84278</td>\n",
       "      <td>Narmada</td>\n",
       "      <td>Narmada Upper</td>\n",
       "      <td>0.52</td>\n",
       "      <td>1</td>\n",
       "      <td>0.0</td>\n",
       "      <td>0.0</td>\n",
       "      <td>0.0</td>\n",
       "      <td>1.0</td>\n",
       "    </tr>\n",
       "    <tr>\n",
       "      <th>2</th>\n",
       "      <td>23</td>\n",
       "      <td>416</td>\n",
       "      <td>24.14833</td>\n",
       "      <td>75.02917</td>\n",
       "      <td>Ganga</td>\n",
       "      <td>Chambal Upper</td>\n",
       "      <td>10.04</td>\n",
       "      <td>5</td>\n",
       "      <td>0.0</td>\n",
       "      <td>0.0</td>\n",
       "      <td>1.0</td>\n",
       "      <td>0.0</td>\n",
       "    </tr>\n",
       "    <tr>\n",
       "      <th>3</th>\n",
       "      <td>19</td>\n",
       "      <td>305</td>\n",
       "      <td>23.40000</td>\n",
       "      <td>86.97361</td>\n",
       "      <td>Ganga</td>\n",
       "      <td>Damodar</td>\n",
       "      <td>2.31</td>\n",
       "      <td>1</td>\n",
       "      <td>0.0</td>\n",
       "      <td>0.0</td>\n",
       "      <td>0.0</td>\n",
       "      <td>1.0</td>\n",
       "    </tr>\n",
       "    <tr>\n",
       "      <th>4</th>\n",
       "      <td>33</td>\n",
       "      <td>568</td>\n",
       "      <td>13.02500</td>\n",
       "      <td>80.25833</td>\n",
       "      <td>East Flowing Rivers Between Pennar And Kanyaku...</td>\n",
       "      <td>Palar And Other</td>\n",
       "      <td>-0.13</td>\n",
       "      <td>11</td>\n",
       "      <td>0.0</td>\n",
       "      <td>1.0</td>\n",
       "      <td>0.0</td>\n",
       "      <td>0.0</td>\n",
       "    </tr>\n",
       "  </tbody>\n",
       "</table>\n",
       "</div>"
      ],
      "text/plain": [
       "   state_code  district_code  latitude  longitude  \\\n",
       "0          36            507  17.38333   78.52083   \n",
       "1          23            409  22.40750   77.84278   \n",
       "2          23            416  24.14833   75.02917   \n",
       "3          19            305  23.40000   86.97361   \n",
       "4          33            568  13.02500   80.25833   \n",
       "\n",
       "                                               basin        sub_basin  \\\n",
       "0                                            Krishna    Krishna Lower   \n",
       "1                                            Narmada    Narmada Upper   \n",
       "2                                              Ganga    Chambal Upper   \n",
       "3                                              Ganga          Damodar   \n",
       "4  East Flowing Rivers Between Pennar And Kanyaku...  Palar And Other   \n",
       "\n",
       "   level_diff  month  season_Monsoon  season_Post-Monsoon  season_Summer  \\\n",
       "0        1.44      5             0.0                  0.0            1.0   \n",
       "1        0.52      1             0.0                  0.0            0.0   \n",
       "2       10.04      5             0.0                  0.0            1.0   \n",
       "3        2.31      1             0.0                  0.0            0.0   \n",
       "4       -0.13     11             0.0                  1.0            0.0   \n",
       "\n",
       "   season_Winter  \n",
       "0            0.0  \n",
       "1            1.0  \n",
       "2            0.0  \n",
       "3            1.0  \n",
       "4            0.0  "
      ]
     },
     "execution_count": 40,
     "metadata": {},
     "output_type": "execute_result"
    }
   ],
   "source": [
    "x_test=pd.read_csv('/workspaces/groundwater-level-forecasting-india/dataset/cleanedData/x_test.csv')\n",
    "x_test.head()"
   ]
  },
  {
   "cell_type": "code",
   "execution_count": 41,
   "id": "803360d6",
   "metadata": {},
   "outputs": [
    {
     "data": {
      "text/html": [
       "<div>\n",
       "<style scoped>\n",
       "    .dataframe tbody tr th:only-of-type {\n",
       "        vertical-align: middle;\n",
       "    }\n",
       "\n",
       "    .dataframe tbody tr th {\n",
       "        vertical-align: top;\n",
       "    }\n",
       "\n",
       "    .dataframe thead th {\n",
       "        text-align: right;\n",
       "    }\n",
       "</style>\n",
       "<table border=\"1\" class=\"dataframe\">\n",
       "  <thead>\n",
       "    <tr style=\"text-align: right;\">\n",
       "      <th></th>\n",
       "      <th>currentlevel</th>\n",
       "    </tr>\n",
       "  </thead>\n",
       "  <tbody>\n",
       "    <tr>\n",
       "      <th>0</th>\n",
       "      <td>36.40</td>\n",
       "    </tr>\n",
       "    <tr>\n",
       "      <th>1</th>\n",
       "      <td>1.33</td>\n",
       "    </tr>\n",
       "    <tr>\n",
       "      <th>2</th>\n",
       "      <td>2.10</td>\n",
       "    </tr>\n",
       "    <tr>\n",
       "      <th>3</th>\n",
       "      <td>7.13</td>\n",
       "    </tr>\n",
       "    <tr>\n",
       "      <th>4</th>\n",
       "      <td>12.20</td>\n",
       "    </tr>\n",
       "  </tbody>\n",
       "</table>\n",
       "</div>"
      ],
      "text/plain": [
       "   currentlevel\n",
       "0         36.40\n",
       "1          1.33\n",
       "2          2.10\n",
       "3          7.13\n",
       "4         12.20"
      ]
     },
     "execution_count": 41,
     "metadata": {},
     "output_type": "execute_result"
    }
   ],
   "source": [
    "y_train=pd.read_csv(r'/workspaces/groundwater-level-forecasting-india/dataset/cleanedData/y_train.csv')\n",
    "y_train.head()"
   ]
  },
  {
   "cell_type": "code",
   "execution_count": 42,
   "id": "36060c63",
   "metadata": {},
   "outputs": [
    {
     "data": {
      "text/html": [
       "<div>\n",
       "<style scoped>\n",
       "    .dataframe tbody tr th:only-of-type {\n",
       "        vertical-align: middle;\n",
       "    }\n",
       "\n",
       "    .dataframe tbody tr th {\n",
       "        vertical-align: top;\n",
       "    }\n",
       "\n",
       "    .dataframe thead th {\n",
       "        text-align: right;\n",
       "    }\n",
       "</style>\n",
       "<table border=\"1\" class=\"dataframe\">\n",
       "  <thead>\n",
       "    <tr style=\"text-align: right;\">\n",
       "      <th></th>\n",
       "      <th>currentlevel</th>\n",
       "    </tr>\n",
       "  </thead>\n",
       "  <tbody>\n",
       "    <tr>\n",
       "      <th>0</th>\n",
       "      <td>7.02</td>\n",
       "    </tr>\n",
       "    <tr>\n",
       "      <th>1</th>\n",
       "      <td>2.23</td>\n",
       "    </tr>\n",
       "    <tr>\n",
       "      <th>2</th>\n",
       "      <td>19.14</td>\n",
       "    </tr>\n",
       "    <tr>\n",
       "      <th>3</th>\n",
       "      <td>10.45</td>\n",
       "    </tr>\n",
       "    <tr>\n",
       "      <th>4</th>\n",
       "      <td>2.53</td>\n",
       "    </tr>\n",
       "  </tbody>\n",
       "</table>\n",
       "</div>"
      ],
      "text/plain": [
       "   currentlevel\n",
       "0          7.02\n",
       "1          2.23\n",
       "2         19.14\n",
       "3         10.45\n",
       "4          2.53"
      ]
     },
     "execution_count": 42,
     "metadata": {},
     "output_type": "execute_result"
    }
   ],
   "source": [
    "y_test=pd.read_csv(r'/workspaces/groundwater-level-forecasting-india/dataset/cleanedData/y_test.csv')\n",
    "y_test.head()"
   ]
  },
  {
   "cell_type": "markdown",
   "id": "f1b29a9b",
   "metadata": {},
   "source": [
    "Shape Ideas"
   ]
  },
  {
   "cell_type": "code",
   "execution_count": 43,
   "id": "cf054431",
   "metadata": {},
   "outputs": [
    {
     "data": {
      "text/plain": [
       "((440680, 12), (110170, 12))"
      ]
     },
     "execution_count": 43,
     "metadata": {},
     "output_type": "execute_result"
    }
   ],
   "source": [
    "x_train.shape,x_test.shape"
   ]
  },
  {
   "cell_type": "code",
   "execution_count": 44,
   "id": "ef259260",
   "metadata": {},
   "outputs": [
    {
     "data": {
      "text/plain": [
       "((440680, 1), (110170, 1))"
      ]
     },
     "execution_count": 44,
     "metadata": {},
     "output_type": "execute_result"
    }
   ],
   "source": [
    "y_train.shape,y_test.shape"
   ]
  },
  {
   "cell_type": "markdown",
   "id": "8fcea7e1",
   "metadata": {},
   "source": [
    "Describing"
   ]
  },
  {
   "cell_type": "code",
   "execution_count": 45,
   "id": "877c80b4",
   "metadata": {},
   "outputs": [
    {
     "data": {
      "text/html": [
       "<div>\n",
       "<style scoped>\n",
       "    .dataframe tbody tr th:only-of-type {\n",
       "        vertical-align: middle;\n",
       "    }\n",
       "\n",
       "    .dataframe tbody tr th {\n",
       "        vertical-align: top;\n",
       "    }\n",
       "\n",
       "    .dataframe thead th {\n",
       "        text-align: right;\n",
       "    }\n",
       "</style>\n",
       "<table border=\"1\" class=\"dataframe\">\n",
       "  <thead>\n",
       "    <tr style=\"text-align: right;\">\n",
       "      <th></th>\n",
       "      <th>state_code</th>\n",
       "      <th>district_code</th>\n",
       "      <th>latitude</th>\n",
       "      <th>longitude</th>\n",
       "      <th>level_diff</th>\n",
       "      <th>month</th>\n",
       "      <th>season_Monsoon</th>\n",
       "      <th>season_Post-Monsoon</th>\n",
       "      <th>season_Summer</th>\n",
       "      <th>season_Winter</th>\n",
       "    </tr>\n",
       "  </thead>\n",
       "  <tbody>\n",
       "    <tr>\n",
       "      <th>count</th>\n",
       "      <td>440680.000000</td>\n",
       "      <td>440680.000000</td>\n",
       "      <td>440680.000000</td>\n",
       "      <td>440680.000000</td>\n",
       "      <td>440680.000000</td>\n",
       "      <td>440680.000000</td>\n",
       "      <td>440680.000000</td>\n",
       "      <td>440680.000000</td>\n",
       "      <td>440680.000000</td>\n",
       "      <td>440680.000000</td>\n",
       "    </tr>\n",
       "    <tr>\n",
       "      <th>mean</th>\n",
       "      <td>22.558004</td>\n",
       "      <td>397.033970</td>\n",
       "      <td>20.150001</td>\n",
       "      <td>79.306261</td>\n",
       "      <td>0.020212</td>\n",
       "      <td>6.149224</td>\n",
       "      <td>0.238284</td>\n",
       "      <td>0.250202</td>\n",
       "      <td>0.226697</td>\n",
       "      <td>0.284817</td>\n",
       "    </tr>\n",
       "    <tr>\n",
       "      <th>std</th>\n",
       "      <td>9.198099</td>\n",
       "      <td>169.356958</td>\n",
       "      <td>6.205204</td>\n",
       "      <td>4.764904</td>\n",
       "      <td>5.782382</td>\n",
       "      <td>3.804822</td>\n",
       "      <td>0.426034</td>\n",
       "      <td>0.433130</td>\n",
       "      <td>0.418696</td>\n",
       "      <td>0.451328</td>\n",
       "    </tr>\n",
       "    <tr>\n",
       "      <th>min</th>\n",
       "      <td>1.000000</td>\n",
       "      <td>1.000000</td>\n",
       "      <td>8.083330</td>\n",
       "      <td>68.675000</td>\n",
       "      <td>-276.580000</td>\n",
       "      <td>1.000000</td>\n",
       "      <td>0.000000</td>\n",
       "      <td>0.000000</td>\n",
       "      <td>0.000000</td>\n",
       "      <td>0.000000</td>\n",
       "    </tr>\n",
       "    <tr>\n",
       "      <th>25%</th>\n",
       "      <td>19.000000</td>\n",
       "      <td>312.000000</td>\n",
       "      <td>14.898957</td>\n",
       "      <td>75.995830</td>\n",
       "      <td>-1.300000</td>\n",
       "      <td>1.000000</td>\n",
       "      <td>0.000000</td>\n",
       "      <td>0.000000</td>\n",
       "      <td>0.000000</td>\n",
       "      <td>0.000000</td>\n",
       "    </tr>\n",
       "    <tr>\n",
       "      <th>50%</th>\n",
       "      <td>23.000000</td>\n",
       "      <td>433.000000</td>\n",
       "      <td>21.345830</td>\n",
       "      <td>78.166670</td>\n",
       "      <td>0.300000</td>\n",
       "      <td>6.000000</td>\n",
       "      <td>0.000000</td>\n",
       "      <td>0.000000</td>\n",
       "      <td>0.000000</td>\n",
       "      <td>0.000000</td>\n",
       "    </tr>\n",
       "    <tr>\n",
       "      <th>75%</th>\n",
       "      <td>29.000000</td>\n",
       "      <td>535.000000</td>\n",
       "      <td>24.470560</td>\n",
       "      <td>82.230560</td>\n",
       "      <td>1.550000</td>\n",
       "      <td>10.000000</td>\n",
       "      <td>0.000000</td>\n",
       "      <td>1.000000</td>\n",
       "      <td>0.000000</td>\n",
       "      <td>1.000000</td>\n",
       "    </tr>\n",
       "    <tr>\n",
       "      <th>max</th>\n",
       "      <td>38.000000</td>\n",
       "      <td>704.000000</td>\n",
       "      <td>33.741110</td>\n",
       "      <td>96.133330</td>\n",
       "      <td>216.400000</td>\n",
       "      <td>12.000000</td>\n",
       "      <td>1.000000</td>\n",
       "      <td>1.000000</td>\n",
       "      <td>1.000000</td>\n",
       "      <td>1.000000</td>\n",
       "    </tr>\n",
       "  </tbody>\n",
       "</table>\n",
       "</div>"
      ],
      "text/plain": [
       "          state_code  district_code       latitude      longitude  \\\n",
       "count  440680.000000  440680.000000  440680.000000  440680.000000   \n",
       "mean       22.558004     397.033970      20.150001      79.306261   \n",
       "std         9.198099     169.356958       6.205204       4.764904   \n",
       "min         1.000000       1.000000       8.083330      68.675000   \n",
       "25%        19.000000     312.000000      14.898957      75.995830   \n",
       "50%        23.000000     433.000000      21.345830      78.166670   \n",
       "75%        29.000000     535.000000      24.470560      82.230560   \n",
       "max        38.000000     704.000000      33.741110      96.133330   \n",
       "\n",
       "          level_diff          month  season_Monsoon  season_Post-Monsoon  \\\n",
       "count  440680.000000  440680.000000   440680.000000        440680.000000   \n",
       "mean        0.020212       6.149224        0.238284             0.250202   \n",
       "std         5.782382       3.804822        0.426034             0.433130   \n",
       "min      -276.580000       1.000000        0.000000             0.000000   \n",
       "25%        -1.300000       1.000000        0.000000             0.000000   \n",
       "50%         0.300000       6.000000        0.000000             0.000000   \n",
       "75%         1.550000      10.000000        0.000000             1.000000   \n",
       "max       216.400000      12.000000        1.000000             1.000000   \n",
       "\n",
       "       season_Summer  season_Winter  \n",
       "count  440680.000000  440680.000000  \n",
       "mean        0.226697       0.284817  \n",
       "std         0.418696       0.451328  \n",
       "min         0.000000       0.000000  \n",
       "25%         0.000000       0.000000  \n",
       "50%         0.000000       0.000000  \n",
       "75%         0.000000       1.000000  \n",
       "max         1.000000       1.000000  "
      ]
     },
     "execution_count": 45,
     "metadata": {},
     "output_type": "execute_result"
    }
   ],
   "source": [
    "x_train.describe()"
   ]
  },
  {
   "cell_type": "code",
   "execution_count": 46,
   "id": "cf3897f2",
   "metadata": {},
   "outputs": [],
   "source": [
    "scaler=StandardScaler() # To introduce consistency"
   ]
  },
  {
   "cell_type": "markdown",
   "id": "d58a35be",
   "metadata": {},
   "source": [
    "Preprocessing: Clean Up y_train and y_test Shape"
   ]
  },
  {
   "cell_type": "code",
   "execution_count": 47,
   "id": "22fb43f7",
   "metadata": {},
   "outputs": [],
   "source": [
    "y_train = y_train.squeeze()\n",
    "y_test = y_test.squeeze()"
   ]
  },
  {
   "cell_type": "markdown",
   "id": "a026b296",
   "metadata": {},
   "source": [
    "### Feature Scaling\n",
    "\n",
    "- **numeric_features**: These are the columns with numeric values (e.g., 'state_code', 'latitude', etc.).\n",
    "- **categorical_features**: These are the columns with categorical data (e.g., 'basin', 'sub_basin').\n",
    "\n",
    "- **ColumnTransformer**: A tool to apply different preprocessing steps to different types of data:\n",
    "  - `StandardScaler()` is applied to numeric features to scale them.\n",
    "  - `OneHotEncoder()` is used for categorical features to convert them into one-hot encoded form (binary columns for each category).\n",
    "  - `remainder='passthrough'`: Keeps any other columns (not in numeric or categorical features) unchanged.\n",
    "\n",
    "- **x_train_processed**: This applies the transformations to the training data.\n",
    "- **x_test_processed**: This applies the transformations to the test data using the same steps as for the training data (but without fitting the scaler/encoder again).\n"
   ]
  },
  {
   "cell_type": "code",
   "execution_count": 48,
   "id": "422e72bc",
   "metadata": {},
   "outputs": [],
   "source": [
    "\n",
    "\n",
    "numeric_features = ['state_code', 'district_code', 'latitude', 'longitude', 'level_diff', 'month']\n",
    "categorical_features = ['basin', 'sub_basin']  # <-- These were causing issues\n",
    "\n",
    "preprocessor = ColumnTransformer([\n",
    "    ('num', StandardScaler(), numeric_features),\n",
    "    ('cat', OneHotEncoder(handle_unknown='ignore'), categorical_features)\n",
    "], remainder='passthrough')\n",
    "\n",
    "x_train_processed = preprocessor.fit_transform(x_train)\n",
    "x_test_processed = preprocessor.transform(x_test)\n"
   ]
  },
  {
   "cell_type": "markdown",
   "id": "b7e00640",
   "metadata": {},
   "source": [
    "Train Multiple Regressors in a Loop"
   ]
  },
  {
   "cell_type": "code",
   "execution_count": 49,
   "id": "4d46db85",
   "metadata": {},
   "outputs": [],
   "source": [
    "# from sklearn.metrics import mean_squared_error, mean_absolute_error, r2_score\n",
    "\n",
    "# models = {\n",
    "#     \"LinearRegression\": LinearRegression(),\n",
    "#     \"LassoCV\": LassoCV(cv=5),\n",
    "#     \"RidgeCV\": RidgeCV(cv=5),\n",
    "#     \"ElasticNetCV\": ElasticNetCV(cv=5),\n",
    "#     \"SVR\": SVR(),\n",
    "#     \"KNN\": KNeighborsRegressor(),\n",
    "#     \"DecisionTree\": DecisionTreeRegressor(),\n",
    "#     \"RandomForest\": RandomForestRegressor(n_estimators=100, random_state=42),\n",
    "#     \"AdaBoost\": AdaBoostRegressor(n_estimators=100, random_state=42),\n",
    "#     \"GradientBoosting\": GradientBoostingRegressor(n_estimators=100, random_state=42),\n",
    "#     \"XGBoost\": xgb.XGBRegressor(n_estimators=100, random_state=42)\n",
    "# }\n",
    "\n",
    "# results = []\n",
    "\n",
    "# for name, model in models.items():\n",
    "#     model.fit(x_train_processed, y_train)\n",
    "#     y_pred = model.predict(x_test_processed)\n",
    "\n",
    "#     mse = mean_squared_error(y_test, y_pred)\n",
    "#     mae = mean_absolute_error(y_test, y_pred)\n",
    "#     r2 = r2_score(y_test, y_pred)\n",
    "#     n, p = x_test.shape\n",
    "#     adj_r2 = 1 - (1 - r2) * (n - 1) / (n - p - 1)\n",
    "\n",
    "#     results.append({\n",
    "#         'Model': name,\n",
    "#         'MSE': mse,\n",
    "#         'MAE': mae,\n",
    "#         'R2': r2,\n",
    "#         'Adjusted R2': adj_r2\n",
    "#     })\n"
   ]
  },
  {
   "cell_type": "code",
   "execution_count": 50,
   "id": "ee2d2775",
   "metadata": {},
   "outputs": [
    {
     "name": "stdout",
     "output_type": "stream",
     "text": [
      "XGBoost Evaluation Metrics:\n",
      "  R² Score     : 0.7374\n",
      "  Adjusted R²  : 0.7371\n",
      "  MAE          : 2.9556\n",
      "  MSE          : 30.1799\n",
      "Model saved as 'models/trained_model/xgb_model.pkl'\n"
     ]
    }
   ],
   "source": [
    "# %%\n",
    "from sklearn.metrics import mean_squared_error, mean_absolute_error, r2_score\n",
    "import xgboost as xgb\n",
    "import joblib\n",
    "import pandas as pd\n",
    "import matplotlib.pyplot as plt\n",
    "import seaborn as sns\n",
    "\n",
    "# Train the XGBoost model\n",
    "xgb_model = xgb.XGBRegressor(n_estimators=100, random_state=42)\n",
    "xgb_model.fit(x_train_processed, y_train)\n",
    "\n",
    "# Predict on test data\n",
    "y_pred = xgb_model.predict(x_test_processed)\n",
    "\n",
    "# Evaluate\n",
    "mse = mean_squared_error(y_test, y_pred)\n",
    "mae = mean_absolute_error(y_test, y_pred)\n",
    "r2 = r2_score(y_test, y_pred)\n",
    "n, p = x_test_processed.shape\n",
    "adj_r2 = 1 - (1 - r2) * (n - 1) / (n - p - 1)\n",
    "\n",
    "# Print metrics\n",
    "print(f\"XGBoost Evaluation Metrics:\")\n",
    "print(f\"  R² Score     : {r2:.4f}\")\n",
    "print(f\"  Adjusted R²  : {adj_r2:.4f}\")\n",
    "print(f\"  MAE          : {mae:.4f}\")\n",
    "print(f\"  MSE          : {mse:.4f}\")\n",
    "\n",
    "# Save the trained model\n",
    "save_path = r\"models/trained_model/\"\n",
    "os.makedirs(save_path, exist_ok=True)\n",
    "joblib.dump(xgb_model, os.path.join(save_path, \"xgb_model.pkl\"))\n",
    "print(f\"Model saved as '{os.path.join(save_path, 'xgb_model.pkl')}'\")\n",
    "\n",
    "# Store results in a dictionary for further visualization\n",
    "results = [{\n",
    "    'Model': 'XGBoost',\n",
    "    'R2': r2,\n",
    "    'Adjusted R2': adj_r2,\n",
    "    'MAE': mae,\n",
    "    'MSE': mse\n",
    "}]\n",
    "\n"
   ]
  },
  {
   "cell_type": "markdown",
   "id": "dec43ace",
   "metadata": {},
   "source": [
    "Display Results"
   ]
  },
  {
   "cell_type": "code",
   "execution_count": 51,
   "id": "ec1c4416",
   "metadata": {},
   "outputs": [
    {
     "data": {
      "text/html": [
       "<style type=\"text/css\">\n",
       "#T_f0bd7_row0_col1, #T_f0bd7_row0_col2, #T_f0bd7_row0_col3, #T_f0bd7_row0_col4 {\n",
       "  background-color: #ffffd9;\n",
       "  color: #000000;\n",
       "}\n",
       "</style>\n",
       "<table id=\"T_f0bd7\">\n",
       "  <thead>\n",
       "    <tr>\n",
       "      <th class=\"blank level0\" >&nbsp;</th>\n",
       "      <th id=\"T_f0bd7_level0_col0\" class=\"col_heading level0 col0\" >Model</th>\n",
       "      <th id=\"T_f0bd7_level0_col1\" class=\"col_heading level0 col1\" >R2</th>\n",
       "      <th id=\"T_f0bd7_level0_col2\" class=\"col_heading level0 col2\" >Adjusted R2</th>\n",
       "      <th id=\"T_f0bd7_level0_col3\" class=\"col_heading level0 col3\" >MAE</th>\n",
       "      <th id=\"T_f0bd7_level0_col4\" class=\"col_heading level0 col4\" >MSE</th>\n",
       "    </tr>\n",
       "  </thead>\n",
       "  <tbody>\n",
       "    <tr>\n",
       "      <th id=\"T_f0bd7_level0_row0\" class=\"row_heading level0 row0\" >0</th>\n",
       "      <td id=\"T_f0bd7_row0_col0\" class=\"data row0 col0\" >XGBoost</td>\n",
       "      <td id=\"T_f0bd7_row0_col1\" class=\"data row0 col1\" >0.737414</td>\n",
       "      <td id=\"T_f0bd7_row0_col2\" class=\"data row0 col2\" >0.737121</td>\n",
       "      <td id=\"T_f0bd7_row0_col3\" class=\"data row0 col3\" >2.955639</td>\n",
       "      <td id=\"T_f0bd7_row0_col4\" class=\"data row0 col4\" >30.179876</td>\n",
       "    </tr>\n",
       "  </tbody>\n",
       "</table>\n"
      ],
      "text/plain": [
       "<pandas.io.formats.style.Styler at 0x7aad7d2ea5d0>"
      ]
     },
     "execution_count": 51,
     "metadata": {},
     "output_type": "execute_result"
    }
   ],
   "source": [
    "results_df = pd.DataFrame(results).sort_values(by='R2', ascending=False)\n",
    "results_df.style.background_gradient(cmap='YlGnBu')"
   ]
  },
  {
   "cell_type": "markdown",
   "id": "8deddae9",
   "metadata": {},
   "source": [
    "Recording Data"
   ]
  },
  {
   "cell_type": "code",
   "execution_count": 52,
   "id": "47bb432f",
   "metadata": {},
   "outputs": [
    {
     "name": "stdout",
     "output_type": "stream",
     "text": [
      "Model metrics saved to 'model_metrics.csv'\n"
     ]
    },
    {
     "data": {
      "image/png": "[encoded data removed]",
      "text/plain": [
       "<Figure size 640x480 with 1 Axes>"
      ]
     },
     "metadata": {},
     "output_type": "display_data"
    }
   ],
   "source": [
    "# Sort results and create styled DataFrame\n",
    "results_df = pd.DataFrame(results).sort_values(by='R2', ascending=False)\n",
    "results_df.style.background_gradient(cmap='YlGnBu')\n",
    "\n",
    "# Define and create save path\n",
    "save_results = r\"models/results/\"\n",
    "os.makedirs(save_results, exist_ok=True)\n",
    "\n",
    "# Save as CSV\n",
    "results_df.to_csv(os.path.join(save_results, \"model_metrics.csv\"), index=False)\n",
    "\n",
    "print(\"Model metrics saved to 'model_metrics.csv'\")\n",
    "\n",
    "\n",
    "sns.barplot(x='R2', y='Model', data=results_df)\n",
    "joblib.dump(preprocessor, os.path.join(save_path, \"xgb_preprocessor.pkl\"))\n",
    "\n",
    "plt.title(\"Model R² Comparison\")\n",
    "plt.show()\n"
   ]
  },
  {
   "cell_type": "markdown",
   "id": "5c7d23ff",
   "metadata": {},
   "source": [
    "Visual Comparison of Model Performance"
   ]
  },
  {
   "cell_type": "code",
   "execution_count": 53,
   "id": "ec017ae6",
   "metadata": {},
   "outputs": [
    {
     "name": "stderr",
     "output_type": "stream",
     "text": [
      "/tmp/ipykernel_9117/76612517.py:2: FutureWarning: \n",
      "\n",
      "Passing `palette` without assigning `hue` is deprecated and will be removed in v0.14.0. Assign the `y` variable to `hue` and set `legend=False` for the same effect.\n",
      "\n",
      "  sns.barplot(x='R2', y='Model', data=results_df, palette='viridis')\n"
     ]
    },
    {
     "data": {
      "image/png": "[encoded data removed]",
      "text/plain": [
       "<Figure size 1200x600 with 1 Axes>"
      ]
     },
     "metadata": {},
     "output_type": "display_data"
    }
   ],
   "source": [
    "plt.figure(figsize=(12, 6))\n",
    "sns.barplot(x='R2', y='Model', data=results_df, palette='viridis')\n",
    "plt.title('Model R² Comparison')\n",
    "plt.xlabel('R² Score')\n",
    "plt.ylabel('Model')\n",
    "plt.grid(True)\n",
    "plt.tight_layout()\n",
    "plt.show()"
   ]
  },
  {
   "cell_type": "markdown",
   "id": "6d8bc3e5",
   "metadata": {},
   "source": [
    "Testing Model"
   ]
  },
  {
   "cell_type": "code",
   "execution_count": 54,
   "id": "d7927623",
   "metadata": {},
   "outputs": [
    {
     "name": "stdout",
     "output_type": "stream",
     "text": [
      "Predicted: 9.13 m\n",
      "Actual   : 7.02 m\n",
      "Percent Error: 30.11%\n"
     ]
    }
   ],
   "source": [
    "sample = x_test.iloc[0:1]\n",
    "sample_processed = preprocessor.transform(sample)\n",
    "predicted_level = xgb_model.predict(sample_processed)\n",
    "\n",
    "actual_level = y_test.iloc[0].item()  # Convert Series to scalar\n",
    "percentError = abs(predicted_level[0] - actual_level) / abs(actual_level) * 100\n",
    "\n",
    "print(f\"Predicted: {predicted_level[0]:.2f} m\")\n",
    "print(f\"Actual   : {actual_level:.2f} m\")\n",
    "print(f\"Percent Error: {percentError:.2f}%\")\n"
   ]
  },
  {
   "cell_type": "markdown",
   "id": "f090e5c8",
   "metadata": {},
   "source": [
    "Prediction Error Scale"
   ]
  },
  {
   "cell_type": "code",
   "execution_count": 55,
   "id": "4f60d58c",
   "metadata": {},
   "outputs": [
    {
     "data": {
      "image/png": "[encoded data removed]",
      "text/plain": [
       "<Figure size 1400x600 with 1 Axes>"
      ]
     },
     "metadata": {},
     "output_type": "display_data"
    }
   ],
   "source": [
    "# Choose first N samples to visualize\n",
    "N = 25\n",
    "samples = x_test.iloc[:N]\n",
    "actual_values = y_test.iloc[:N].values.ravel()  # Ensure 1D\n",
    "predicted_values = xgb_model.predict(preprocessor.transform(samples)).ravel()  # Ensure 1D\n",
    "\n",
    "# Create DataFrame for plotting\n",
    "comparison_df = pd.DataFrame({\n",
    "    'Sample': range(1, N + 1),\n",
    "    'Actual Level (cm)': actual_values,\n",
    "    'Predicted Level (cm)': predicted_values\n",
    "})\n",
    "\n",
    "# Plot\n",
    "plt.figure(figsize=(14, 6))\n",
    "sns.lineplot(data=comparison_df.set_index('Sample'))\n",
    "plt.title('Predicted vs Actual Groundwater Levels')\n",
    "plt.ylabel('Water Level (cm)')\n",
    "plt.xlabel('Test Sample Index')\n",
    "plt.grid(True)\n",
    "plt.legend(loc='upper right')\n",
    "plt.tight_layout()\n",
    "plt.show()\n"
   ]
  },
  {
   "cell_type": "markdown",
   "id": "c845cc3b",
   "metadata": {},
   "source": [
    "Model Prediction to CSV"
   ]
  },
  {
   "cell_type": "code",
   "execution_count": null,
   "id": "ac481b5b",
   "metadata": {},
   "outputs": [
    {
     "name": "stdout",
     "output_type": "stream",
     "text": [
      "✅ Predictions saved to: models/results/predictions.csv\n"
     ]
    }
   ],
   "source": [
    "# # === Load model and preprocessor ===\n",
    "model_path = r\"models/trained_model/xgb_model.pkl\"\n",
    "preprocessor_path = r\"models/trained_model/xgb_preprocessor.pkl\"\n",
    "\n",
    "xgb_model = joblib.load(model_path)\n",
    "preprocessor = joblib.load(preprocessor_path)\n",
    "\n",
    "#=== Load test data ===\n",
    "x_test = pd.read_csv(\"../../dataset/cleanedData/x_test.csv\")\n",
    "y_test = pd.read_csv(\"../../dataset/cleanedData/y_test.csv\").squeeze()\n",
    "\n",
    "# === Predict ===\n",
    "x_test_processed = preprocessor.transform(x_test)\n",
    "predictions = xgb_model.predict(x_test_processed)\n",
    "\n",
    "# === Save predictions ===\n",
    "result_df = x_test.copy()\n",
    "result_df['Actual_Level'] = y_test.values\n",
    "result_df['Predicted_Level'] = predictions\n",
    "\n",
    "save_path = r\"models/results/predictions.csv\"\n",
    "result_df.to_csv(save_path, index=False)\n",
    "\n",
    "print(\"✅ Predictions saved to:\", save_path)"
   ]
  }
 ],
 "metadata": {
  "kernelspec": {
   "display_name": "Python 3",
   "language": "python",
   "name": "python3"
  },
  "language_info": {
   "codemirror_mode": {
    "name": "ipython",
    "version": 3
   },
   "file_extension": ".py",
   "mimetype": "text/x-python",
   "name": "python",
   "nbconvert_exporter": "python",
   "pygments_lexer": "ipython3",
   "version": "3.12.1"
  }
 },
 "nbformat": 4,
 "nbformat_minor": 5
}
